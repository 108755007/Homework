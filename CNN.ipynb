{
 "cells": [
  {
   "cell_type": "code",
   "execution_count": 1,
   "id": "8b7c4d9b",
   "metadata": {},
   "outputs": [],
   "source": [
    "import tensorflow as tf"
   ]
  },
  {
   "cell_type": "code",
   "execution_count": 2,
   "id": "31e42d7b",
   "metadata": {},
   "outputs": [],
   "source": [
    "from tensorflow import keras\n",
    "import matplotlib.pyplot as plt\n",
    "%matplotlib inline\n",
    "import numpy as np\n",
    "import glob"
   ]
  },
  {
   "cell_type": "code",
   "execution_count": 3,
   "id": "6244b260",
   "metadata": {},
   "outputs": [],
   "source": [
    "all_image_path=glob.glob('2_class/*/*.jpg')##讀取"
   ]
  },
  {
   "cell_type": "code",
   "execution_count": 4,
   "id": "49996460",
   "metadata": {},
   "outputs": [],
   "source": [
    "import random"
   ]
  },
  {
   "cell_type": "code",
   "execution_count": 5,
   "id": "80e9bbc7",
   "metadata": {},
   "outputs": [],
   "source": [
    "random.shuffle(all_image_path)## 亂序"
   ]
  },
  {
   "cell_type": "code",
   "execution_count": 6,
   "id": "8e10d197",
   "metadata": {},
   "outputs": [
    {
     "data": {
      "text/plain": [
       "['2_class\\\\airplane\\\\airplane_057.jpg',\n",
       " '2_class\\\\airplane\\\\airplane_603.jpg',\n",
       " '2_class\\\\airplane\\\\airplane_599.jpg',\n",
       " '2_class\\\\airplane\\\\airplane_276.jpg',\n",
       " '2_class\\\\lake\\\\lake_181.jpg']"
      ]
     },
     "execution_count": 6,
     "metadata": {},
     "output_type": "execute_result"
    }
   ],
   "source": [
    "all_image_path[-5:]"
   ]
  },
  {
   "cell_type": "code",
   "execution_count": 7,
   "id": "8a211d46",
   "metadata": {},
   "outputs": [],
   "source": [
    "label_to_index={'airplane':0,'lake':1}"
   ]
  },
  {
   "cell_type": "code",
   "execution_count": 8,
   "id": "44d7bbdc",
   "metadata": {},
   "outputs": [],
   "source": [
    "###將字典airplane與0...互換\n",
    "index_to_label=dict((v,k)for k,v in label_to_index.items())  ###後面用的到 0要轉換回airplane...."
   ]
  },
  {
   "cell_type": "code",
   "execution_count": 9,
   "id": "bb2ae93f",
   "metadata": {},
   "outputs": [
    {
     "data": {
      "text/plain": [
       "{'airplane': 0, 'lake': 1}"
      ]
     },
     "execution_count": 9,
     "metadata": {},
     "output_type": "execute_result"
    }
   ],
   "source": [
    "label_to_index"
   ]
  },
  {
   "cell_type": "code",
   "execution_count": 10,
   "id": "1692c48a",
   "metadata": {},
   "outputs": [
    {
     "data": {
      "text/plain": [
       "{0: 'airplane', 1: 'lake'}"
      ]
     },
     "execution_count": 10,
     "metadata": {},
     "output_type": "execute_result"
    }
   ],
   "source": [
    "index_to_label"
   ]
  },
  {
   "cell_type": "code",
   "execution_count": 11,
   "id": "c9dd611a",
   "metadata": {},
   "outputs": [],
   "source": [
    "img=all_image_path[0]"
   ]
  },
  {
   "cell_type": "code",
   "execution_count": 12,
   "id": "6b04c405",
   "metadata": {},
   "outputs": [
    {
     "data": {
      "text/plain": [
       "'2_class\\\\lake\\\\lake_218.jpg'"
      ]
     },
     "execution_count": 12,
     "metadata": {},
     "output_type": "execute_result"
    }
   ],
   "source": [
    "all_image_path[0]"
   ]
  },
  {
   "cell_type": "code",
   "execution_count": 13,
   "id": "5c6785a9",
   "metadata": {},
   "outputs": [
    {
     "data": {
      "text/plain": [
       "['2_class', 'lake', 'lake_218.jpg']"
      ]
     },
     "execution_count": 13,
     "metadata": {},
     "output_type": "execute_result"
    }
   ],
   "source": [
    "img.split('\\\\')  ###用\\\\進行分割創建列表"
   ]
  },
  {
   "cell_type": "code",
   "execution_count": 14,
   "id": "76913075",
   "metadata": {},
   "outputs": [
    {
     "data": {
      "text/plain": [
       "'lake'"
      ]
     },
     "execution_count": 14,
     "metadata": {},
     "output_type": "execute_result"
    }
   ],
   "source": [
    "img.split('\\\\')[1]   ####取出 lake=label"
   ]
  },
  {
   "cell_type": "code",
   "execution_count": 15,
   "id": "3714629c",
   "metadata": {},
   "outputs": [
    {
     "data": {
      "text/plain": [
       "1"
      ]
     },
     "execution_count": 15,
     "metadata": {},
     "output_type": "execute_result"
    }
   ],
   "source": [
    "label_to_index.get(img.split('\\\\')[1])     ###使用字典將 lake轉換成1"
   ]
  },
  {
   "cell_type": "code",
   "execution_count": 16,
   "id": "c37bd65a",
   "metadata": {},
   "outputs": [],
   "source": [
    "all_labels=[label_to_index.get(img.split('\\\\')[1]) for img in all_image_path]  ###應用到所有的label"
   ]
  },
  {
   "cell_type": "code",
   "execution_count": 17,
   "id": "e783b7c1",
   "metadata": {},
   "outputs": [
    {
     "data": {
      "text/plain": [
       "[0, 0, 0, 0, 1]"
      ]
     },
     "execution_count": 17,
     "metadata": {},
     "output_type": "execute_result"
    }
   ],
   "source": [
    "all_labels[-5:]"
   ]
  },
  {
   "cell_type": "code",
   "execution_count": 18,
   "id": "d2dd2730",
   "metadata": {},
   "outputs": [
    {
     "data": {
      "text/plain": [
       "['2_class\\\\airplane\\\\airplane_057.jpg',\n",
       " '2_class\\\\airplane\\\\airplane_603.jpg',\n",
       " '2_class\\\\airplane\\\\airplane_599.jpg',\n",
       " '2_class\\\\airplane\\\\airplane_276.jpg',\n",
       " '2_class\\\\lake\\\\lake_181.jpg']"
      ]
     },
     "execution_count": 18,
     "metadata": {},
     "output_type": "execute_result"
    }
   ],
   "source": [
    "all_image_path[-5:]                    ########獲得label和data 路徑"
   ]
  },
  {
   "cell_type": "markdown",
   "id": "c664ab3b",
   "metadata": {},
   "source": [
    "###讀取圖片"
   ]
  },
  {
   "cell_type": "code",
   "execution_count": 19,
   "id": "08aecdbb",
   "metadata": {},
   "outputs": [],
   "source": [
    "img=all_image_path[0]"
   ]
  },
  {
   "cell_type": "code",
   "execution_count": 20,
   "id": "01ee633f",
   "metadata": {},
   "outputs": [],
   "source": [
    "img_raw = tf.io.read_file(img)     ###讀取"
   ]
  },
  {
   "cell_type": "code",
   "execution_count": 21,
   "id": "38a9c92c",
   "metadata": {},
   "outputs": [],
   "source": [
    "img_tensor=tf.image.decode_jpeg(img_raw) ###解碼"
   ]
  },
  {
   "cell_type": "code",
   "execution_count": 22,
   "id": "6557bdd2",
   "metadata": {},
   "outputs": [
    {
     "data": {
      "text/plain": [
       "TensorShape([256, 256, 3])"
      ]
     },
     "execution_count": 22,
     "metadata": {},
     "output_type": "execute_result"
    }
   ],
   "source": [
    "img_tensor.shape"
   ]
  },
  {
   "cell_type": "code",
   "execution_count": 23,
   "id": "85ce800e",
   "metadata": {},
   "outputs": [
    {
     "data": {
      "text/plain": [
       "tf.uint8"
      ]
     },
     "execution_count": 23,
     "metadata": {},
     "output_type": "execute_result"
    }
   ],
   "source": [
    "img_tensor.dtype"
   ]
  },
  {
   "cell_type": "code",
   "execution_count": 24,
   "id": "a2046468",
   "metadata": {},
   "outputs": [],
   "source": [
    "img_tensor=tf.cast(img_tensor,tf.float32)  ##轉換成float32"
   ]
  },
  {
   "cell_type": "code",
   "execution_count": 25,
   "id": "1c43bec9",
   "metadata": {},
   "outputs": [
    {
     "data": {
      "text/plain": [
       "tf.float32"
      ]
     },
     "execution_count": 25,
     "metadata": {},
     "output_type": "execute_result"
    }
   ],
   "source": [
    "img_tensor.dtype"
   ]
  },
  {
   "cell_type": "code",
   "execution_count": 26,
   "id": "4f1ba0f0",
   "metadata": {},
   "outputs": [],
   "source": [
    "img_tensor=img_tensor/255  ##規一"
   ]
  },
  {
   "cell_type": "code",
   "execution_count": 27,
   "id": "0730b448",
   "metadata": {},
   "outputs": [],
   "source": [
    "def load_img(path):\n",
    "    img_raw = tf.io.read_file(path)             ###讀取\n",
    "    img_tensor=tf.image.decode_jpeg(img_raw,channels=3)   ###解碼#解碼時彩色channels=3\n",
    "    img_tensor=tf.image.resize(img_tensor,[256,256])  ###將所有圖片轉換成同樣大小\n",
    "    img_tensor=tf.cast(img_tensor,tf.float32)  ##轉換成float32\n",
    "    img_tensor=img_tensor/255  ##規一\n",
    "    \n",
    "    return img_tensor\n",
    "    "
   ]
  },
  {
   "cell_type": "code",
   "execution_count": 28,
   "id": "9bbe58b8",
   "metadata": {},
   "outputs": [
    {
     "data": {
      "text/plain": [
       "<matplotlib.image.AxesImage at 0x243aa857f10>"
      ]
     },
     "execution_count": 28,
     "metadata": {},
     "output_type": "execute_result"
    },
    {
     "data": {
      "image/png": "[encoded data removed]",
      "text/plain": [
       "<Figure size 432x288 with 1 Axes>"
      ]
     },
     "metadata": {
      "needs_background": "light"
     },
     "output_type": "display_data"
    }
   ],
   "source": [
    "i = random.choice(range(len(all_image_path)))\n",
    "img_path=all_image_path[i]\n",
    "label=all_labels[i]\n",
    "img_tensor=load_img(img_path)\n",
    "\n",
    "plt.title(index_to_label.get(label))\n",
    "plt.imshow(img_tensor.numpy())"
   ]
  },
  {
   "cell_type": "code",
   "execution_count": 29,
   "id": "e2d8c002",
   "metadata": {},
   "outputs": [],
   "source": [
    "img_datas=tf.data.Dataset.from_tensor_slices(all_image_path) ##轉換成tf形式的路徑"
   ]
  },
  {
   "cell_type": "code",
   "execution_count": 30,
   "id": "f9078db7",
   "metadata": {},
   "outputs": [],
   "source": [
    "img_datas=img_datas.map(load_img)  ###將所有路徑應用函數讀取資料"
   ]
  },
  {
   "cell_type": "code",
   "execution_count": 31,
   "id": "53ab08dc",
   "metadata": {},
   "outputs": [
    {
     "data": {
      "text/plain": [
       "<MapDataset shapes: (256, 256, 3), types: tf.float32>"
      ]
     },
     "execution_count": 31,
     "metadata": {},
     "output_type": "execute_result"
    }
   ],
   "source": [
    "img_datas"
   ]
  },
  {
   "cell_type": "code",
   "execution_count": 32,
   "id": "a6833d76",
   "metadata": {},
   "outputs": [],
   "source": [
    "lab_datas=tf.data.Dataset.from_tensor_slices(all_labels) ##直接讀取label 數組"
   ]
  },
  {
   "cell_type": "code",
   "execution_count": 33,
   "id": "96c7475c",
   "metadata": {},
   "outputs": [
    {
     "name": "stdout",
     "output_type": "stream",
     "text": [
      "tf.Tensor(1, shape=(), dtype=int32)\n",
      "tf.Tensor(0, shape=(), dtype=int32)\n",
      "tf.Tensor(0, shape=(), dtype=int32)\n",
      "tf.Tensor(0, shape=(), dtype=int32)\n",
      "tf.Tensor(0, shape=(), dtype=int32)\n",
      "tf.Tensor(0, shape=(), dtype=int32)\n",
      "tf.Tensor(0, shape=(), dtype=int32)\n",
      "tf.Tensor(0, shape=(), dtype=int32)\n",
      "tf.Tensor(0, shape=(), dtype=int32)\n",
      "tf.Tensor(1, shape=(), dtype=int32)\n"
     ]
    }
   ],
   "source": [
    "for la in lab_datas.take(10):\n",
    "    print(la)"
   ]
  },
  {
   "cell_type": "code",
   "execution_count": 34,
   "id": "c14bad0f",
   "metadata": {},
   "outputs": [],
   "source": [
    "img_label_ds=tf.data.Dataset.zip((img_datas,lab_datas)) ###將兩組合併成一,要兩括號(())"
   ]
  },
  {
   "cell_type": "code",
   "execution_count": 35,
   "id": "fbb396c8",
   "metadata": {},
   "outputs": [],
   "source": [
    "image_count=len(all_image_path)\n",
    "test_count=int(image_count*0.2)\n",
    "train_count=image_count-test_count\n",
    "train_ds=img_label_ds.skip(test_count)\n",
    "test_ds=img_label_ds.take(test_count)                    ####分割訓練/測試資料"
   ]
  },
  {
   "cell_type": "code",
   "execution_count": 36,
   "id": "e423b98a",
   "metadata": {},
   "outputs": [],
   "source": [
    "train_ds=train_ds.repeat().shuffle(100).batch(16)     ##訓練資料需要repat/shuff/batch"
   ]
  },
  {
   "cell_type": "code",
   "execution_count": 45,
   "id": "1809e461",
   "metadata": {},
   "outputs": [],
   "source": [
    "batch_size=16"
   ]
  },
  {
   "cell_type": "code",
   "execution_count": 37,
   "id": "b6ed3556",
   "metadata": {},
   "outputs": [],
   "source": [
    "test_ds=test_ds.batch(16)  ### test不需要"
   ]
  },
  {
   "cell_type": "markdown",
   "id": "8b3d35a5",
   "metadata": {},
   "source": [
    "##模型"
   ]
  },
  {
   "cell_type": "code",
   "execution_count": 83,
   "id": "24b4e43b",
   "metadata": {},
   "outputs": [],
   "source": [
    "model =tf.keras.Sequential()\n",
    "model.add(tf.keras.layers.Conv2D(64,(3,3),input_shape=(256,256,3),activation='relu'))\n",
    "model.add(tf.keras.layers.Conv2D(64,(3,3),activation='relu'))\n",
    "model.add(tf.keras.layers.BatchNormalization())\n",
    "model.add(tf.keras.layers.MaxPooling2D())\n",
    "model.add(tf.keras.layers.Conv2D(128,(3,3),input_shape=(256,256,3),activation='relu'))\n",
    "model.add(tf.keras.layers.Conv2D(128,(3,3),activation='relu'))\n",
    "model.add(tf.keras.layers.BatchNormalization())\n",
    "model.add(tf.keras.layers.MaxPooling2D())\n",
    "model.add(tf.keras.layers.Conv2D(256,(3,3),input_shape=(256,256,3),activation='relu'))\n",
    "model.add(tf.keras.layers.Conv2D(256,(3,3),activation='relu'))\n",
    "model.add(tf.keras.layers.BatchNormalization())\n",
    "model.add(tf.keras.layers.MaxPooling2D())\n",
    "model.add(tf.keras.layers.Conv2D(512,(3,3),input_shape=(256,256,3),activation='relu'))\n",
    "model.add(tf.keras.layers.Conv2D(512,(3,3),activation='relu'))\n",
    "model.add(tf.keras.layers.BatchNormalization())\n",
    "model.add(tf.keras.layers.GlobalAveragePooling2D())\n",
    "model.add(tf.keras.layers.Dense(1024,activation='relu'))\n",
    "model.add(tf.keras.layers.BatchNormalization())\n",
    "model.add(tf.keras.layers.Dense(512,activation='relu'))\n",
    "model.add(tf.keras.layers.BatchNormalization())\n",
    "model.add(tf.keras.layers.Dense(1,activation='sigmoid'))"
   ]
  },
  {
   "cell_type": "code",
   "execution_count": 84,
   "id": "8750804b",
   "metadata": {},
   "outputs": [
    {
     "name": "stdout",
     "output_type": "stream",
     "text": [
      "Model: \"sequential_2\"\n",
      "_________________________________________________________________\n",
      "Layer (type)                 Output Shape              Param #   \n",
      "=================================================================\n",
      "conv2d_9 (Conv2D)            (None, 254, 254, 64)      1792      \n",
      "_________________________________________________________________\n",
      "conv2d_10 (Conv2D)           (None, 252, 252, 64)      36928     \n",
      "_________________________________________________________________\n",
      "batch_normalization (BatchNo (None, 252, 252, 64)      256       \n",
      "_________________________________________________________________\n",
      "max_pooling2d_3 (MaxPooling2 (None, 126, 126, 64)      0         \n",
      "_________________________________________________________________\n",
      "conv2d_11 (Conv2D)           (None, 124, 124, 128)     73856     \n",
      "_________________________________________________________________\n",
      "conv2d_12 (Conv2D)           (None, 122, 122, 128)     147584    \n",
      "_________________________________________________________________\n",
      "batch_normalization_1 (Batch (None, 122, 122, 128)     512       \n",
      "_________________________________________________________________\n",
      "max_pooling2d_4 (MaxPooling2 (None, 61, 61, 128)       0         \n",
      "_________________________________________________________________\n",
      "conv2d_13 (Conv2D)           (None, 59, 59, 256)       295168    \n",
      "_________________________________________________________________\n",
      "conv2d_14 (Conv2D)           (None, 57, 57, 256)       590080    \n",
      "_________________________________________________________________\n",
      "batch_normalization_2 (Batch (None, 57, 57, 256)       1024      \n",
      "_________________________________________________________________\n",
      "max_pooling2d_5 (MaxPooling2 (None, 28, 28, 256)       0         \n",
      "_________________________________________________________________\n",
      "conv2d_15 (Conv2D)           (None, 26, 26, 512)       1180160   \n",
      "_________________________________________________________________\n",
      "conv2d_16 (Conv2D)           (None, 24, 24, 512)       2359808   \n",
      "_________________________________________________________________\n",
      "batch_normalization_3 (Batch (None, 24, 24, 512)       2048      \n",
      "_________________________________________________________________\n",
      "global_average_pooling2d_1 ( (None, 512)               0         \n",
      "_________________________________________________________________\n",
      "dense_3 (Dense)              (None, 1024)              525312    \n",
      "_________________________________________________________________\n",
      "batch_normalization_4 (Batch (None, 1024)              4096      \n",
      "_________________________________________________________________\n",
      "dense_4 (Dense)              (None, 512)               524800    \n",
      "_________________________________________________________________\n",
      "batch_normalization_5 (Batch (None, 512)               2048      \n",
      "_________________________________________________________________\n",
      "dense_5 (Dense)              (None, 1)                 513       \n",
      "=================================================================\n",
      "Total params: 5,745,985\n",
      "Trainable params: 5,740,993\n",
      "Non-trainable params: 4,992\n",
      "_________________________________________________________________\n"
     ]
    }
   ],
   "source": [
    "model.summary()"
   ]
  },
  {
   "cell_type": "code",
   "execution_count": 85,
   "id": "68b6bfc8",
   "metadata": {},
   "outputs": [],
   "source": [
    "model.compile(optimizer=tf.keras.optimizers.Adam(0.0001)\n",
    "             ,loss=tf.keras.losses.BinaryCrossentropy()   ##BinaryCrossentropy 2分類 ##CategoricalCrossentropy多分類\n",
    "              \n",
    "             ,metrics=['acc'])"
   ]
  },
  {
   "cell_type": "code",
   "execution_count": 86,
   "id": "c4840bd6",
   "metadata": {},
   "outputs": [],
   "source": [
    "step_per_epoch=train_count/16\n",
    "val_step=test_count//16"
   ]
  },
  {
   "cell_type": "code",
   "execution_count": 87,
   "id": "1991acab",
   "metadata": {},
   "outputs": [
    {
     "name": "stdout",
     "output_type": "stream",
     "text": [
      "Epoch 1/10\n",
      "70/70 [==============================] - 12s 157ms/step - loss: 0.2229 - acc: 0.9179 - val_loss: 0.7025 - val_acc: 0.4853\n",
      "Epoch 2/10\n",
      "70/70 [==============================] - 11s 154ms/step - loss: 0.1333 - acc: 0.9563 - val_loss: 0.6731 - val_acc: 0.4853\n",
      "Epoch 3/10\n",
      "70/70 [==============================] - 11s 154ms/step - loss: 0.1295 - acc: 0.9607 - val_loss: 0.5541 - val_acc: 0.8419\n",
      "Epoch 4/10\n",
      "70/70 [==============================] - 11s 154ms/step - loss: 0.1076 - acc: 0.9616 - val_loss: 0.7971 - val_acc: 0.5147\n",
      "Epoch 5/10\n",
      "70/70 [==============================] - 11s 154ms/step - loss: 0.0880 - acc: 0.9723 - val_loss: 0.3711 - val_acc: 0.8713\n",
      "Epoch 6/10\n",
      "70/70 [==============================] - 11s 155ms/step - loss: 0.1132 - acc: 0.9643 - val_loss: 0.3761 - val_acc: 0.8640\n",
      "Epoch 7/10\n",
      "70/70 [==============================] - 11s 155ms/step - loss: 0.1062 - acc: 0.9688 - val_loss: 0.2579 - val_acc: 0.9301\n",
      "Epoch 8/10\n",
      "70/70 [==============================] - 11s 154ms/step - loss: 0.0877 - acc: 0.9688 - val_loss: 0.1977 - val_acc: 0.9338\n",
      "Epoch 9/10\n",
      "70/70 [==============================] - 11s 155ms/step - loss: 0.0998 - acc: 0.9750 - val_loss: 0.0568 - val_acc: 0.9853\n",
      "Epoch 10/10\n",
      "70/70 [==============================] - 11s 154ms/step - loss: 0.0599 - acc: 0.9777 - val_loss: 0.0528 - val_acc: 0.9890\n"
     ]
    }
   ],
   "source": [
    "history=model.fit(train_ds,epochs=10,steps_per_epoch=step_per_epoch,validation_data=test_ds,validation_steps=val_step)"
   ]
  },
  {
   "cell_type": "code",
   "execution_count": 50,
   "id": "7221a3b6",
   "metadata": {},
   "outputs": [
    {
     "data": {
      "text/plain": [
       "dict_keys(['loss', 'acc', 'val_loss', 'val_acc'])"
      ]
     },
     "execution_count": 50,
     "metadata": {},
     "output_type": "execute_result"
    }
   ],
   "source": [
    "history.history.keys()"
   ]
  },
  {
   "cell_type": "code",
   "execution_count": 52,
   "id": "b660581d",
   "metadata": {},
   "outputs": [
    {
     "data": {
      "text/plain": [
       "[<matplotlib.lines.Line2D at 0x245922ea430>]"
      ]
     },
     "execution_count": 52,
     "metadata": {},
     "output_type": "execute_result"
    },
    {
     "data": {
      "image/png": "[encoded data removed]",
      "text/plain": [
       "<Figure size 432x288 with 1 Axes>"
      ]
     },
     "metadata": {
      "needs_background": "light"
     },
     "output_type": "display_data"
    }
   ],
   "source": [
    "plt.plot(history.epoch,history.history.get('acc'),label='acc')\n",
    "plt.plot(history.epoch,history.history.get('val_acc'),label='acc')"
   ]
  },
  {
   "cell_type": "code",
   "execution_count": 88,
   "id": "8b4489e8",
   "metadata": {},
   "outputs": [
    {
     "data": {
      "text/plain": [
       "[<matplotlib.lines.Line2D at 0x245a9cac2b0>]"
      ]
     },
     "execution_count": 88,
     "metadata": {},
     "output_type": "execute_result"
    },
    {
     "data": {
      "image/png": "[encoded data removed]",
      "text/plain": [
       "<Figure size 432x288 with 1 Axes>"
      ]
     },
     "metadata": {
      "needs_background": "light"
     },
     "output_type": "display_data"
    }
   ],
   "source": [
    "###batchnor\n",
    "plt.plot(history.epoch,history.history.get('acc'),label='acc')\n",
    "plt.plot(history.epoch,history.history.get('val_acc'),label='acc')"
   ]
  },
  {
   "cell_type": "code",
   "execution_count": 53,
   "id": "8bdf6017",
   "metadata": {},
   "outputs": [
    {
     "data": {
      "text/plain": [
       "[<matplotlib.lines.Line2D at 0x2459440b610>]"
      ]
     },
     "execution_count": 53,
     "metadata": {},
     "output_type": "execute_result"
    },
    {
     "data": {
      "image/png": "[encoded data removed]",
      "text/plain": [
       "<Figure size 432x288 with 1 Axes>"
      ]
     },
     "metadata": {
      "needs_background": "light"
     },
     "output_type": "display_data"
    }
   ],
   "source": [
    "plt.plot(history.epoch,history.history.get('loss'),label='acc')\n",
    "plt.plot(history.epoch,history.history.get('val_loss'),label='acc')"
   ]
  },
  {
   "cell_type": "code",
   "execution_count": 89,
   "id": "52432449",
   "metadata": {},
   "outputs": [
    {
     "data": {
      "text/plain": [
       "[<matplotlib.lines.Line2D at 0x245b0a56610>]"
      ]
     },
     "execution_count": 89,
     "metadata": {},
     "output_type": "execute_result"
    },
    {
     "data": {
      "image/png": "[encoded data removed]",
      "text/plain": [
       "<Figure size 432x288 with 1 Axes>"
      ]
     },
     "metadata": {
      "needs_background": "light"
     },
     "output_type": "display_data"
    }
   ],
   "source": [
    "plt.plot(history.epoch,history.history.get('loss'),label='acc')\n",
    "plt.plot(history.epoch,history.history.get('val_loss'),label='acc')"
   ]
  },
  {
   "cell_type": "markdown",
   "id": "26266a33",
   "metadata": {},
   "source": [
    "###模型預測"
   ]
  },
  {
   "cell_type": "code",
   "execution_count": 55,
   "id": "1cfa17f1",
   "metadata": {},
   "outputs": [
    {
     "ename": "TypeError",
     "evalue": "predict() missing 1 required positional argument: 'x'",
     "output_type": "error",
     "traceback": [
      "\u001b[1;31m---------------------------------------------------------------------------\u001b[0m",
      "\u001b[1;31mTypeError\u001b[0m                                 Traceback (most recent call last)",
      "\u001b[1;32mC:\\Users\\ADMINI~1\\AppData\\Local\\Temp/ipykernel_21064/1548584363.py\u001b[0m in \u001b[0;36m<module>\u001b[1;34m\u001b[0m\n\u001b[1;32m----> 1\u001b[1;33m \u001b[0mmodel\u001b[0m\u001b[1;33m.\u001b[0m\u001b[0mpredict\u001b[0m\u001b[1;33m(\u001b[0m\u001b[1;33m)\u001b[0m\u001b[1;33m\u001b[0m\u001b[1;33m\u001b[0m\u001b[0m\n\u001b[0m",
      "\u001b[1;31mTypeError\u001b[0m: predict() missing 1 required positional argument: 'x'"
     ]
    }
   ],
   "source": [
    "model.predict()"
   ]
  },
  {
   "cell_type": "code",
   "execution_count": 57,
   "id": "d03f1260",
   "metadata": {},
   "outputs": [],
   "source": [
    "path='lake_009.jpg'"
   ]
  },
  {
   "cell_type": "code",
   "execution_count": 59,
   "id": "2a6733c6",
   "metadata": {},
   "outputs": [],
   "source": [
    "img=load_img(path)"
   ]
  },
  {
   "cell_type": "code",
   "execution_count": 64,
   "id": "1c095a23",
   "metadata": {},
   "outputs": [],
   "source": [
    "img=tf.expand_dims(img,axis=0)"
   ]
  },
  {
   "cell_type": "code",
   "execution_count": 73,
   "id": "d4b3119d",
   "metadata": {},
   "outputs": [],
   "source": [
    "pre=model.predict(img)\n"
   ]
  },
  {
   "cell_type": "code",
   "execution_count": 77,
   "id": "12c3f0db",
   "metadata": {},
   "outputs": [
    {
     "data": {
      "text/plain": [
       "1.0"
      ]
     },
     "execution_count": 77,
     "metadata": {},
     "output_type": "execute_result"
    }
   ],
   "source": [
    "pre[0][0]"
   ]
  },
  {
   "cell_type": "code",
   "execution_count": 78,
   "id": "459a275b",
   "metadata": {},
   "outputs": [
    {
     "data": {
      "text/plain": [
       "'lake'"
      ]
     },
     "execution_count": 78,
     "metadata": {},
     "output_type": "execute_result"
    }
   ],
   "source": [
    "index_to_label.get(pre[0][0])"
   ]
  },
  {
   "cell_type": "code",
   "execution_count": 81,
   "id": "1252733f",
   "metadata": {},
   "outputs": [],
   "source": [
    "def per_img(img_path):\n",
    "    img=load_img(path)\n",
    "    img=tf.expand_dims(img,axis=0)\n",
    "    pred=model.predict(img)\n",
    "    print(index_to_label.get(pred[0][0]))"
   ]
  },
  {
   "cell_type": "code",
   "execution_count": 82,
   "id": "036eee1e",
   "metadata": {},
   "outputs": [
    {
     "name": "stdout",
     "output_type": "stream",
     "text": [
      "lake\n"
     ]
    }
   ],
   "source": [
    "per_img('lake_009.jpg')"
   ]
  },
  {
   "cell_type": "code",
   "execution_count": null,
   "id": "559e02e0",
   "metadata": {},
   "outputs": [],
   "source": []
  }
 ],
 "metadata": {
  "kernelspec": {
   "display_name": "Python (tensorflow-gpu)",
   "language": "python",
   "name": "tensorflow-gpu"
  },
  "language_info": {
   "codemirror_mode": {
    "name": "ipython",
    "version": 3
   },
   "file_extension": ".py",
   "mimetype": "text/x-python",
   "name": "python",
   "nbconvert_exporter": "python",
   "pygments_lexer": "ipython3",
   "version": "3.8.12"
  }
 },
 "nbformat": 4,
 "nbformat_minor": 5
}
